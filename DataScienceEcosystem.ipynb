{
 "cells": [
  {
   "cell_type": "markdown",
   "id": "e99f0043",
   "metadata": {},
   "source": [
    "# Data Science Tools and Ecosystem"
   ]
  },
  {
   "cell_type": "markdown",
   "id": "c41e0b87",
   "metadata": {},
   "source": [
    "In this notebook, Data Science Tools and Ecosystem are summarized."
   ]
  },
  {
   "cell_type": "markdown",
   "id": "2e7c30e6",
   "metadata": {},
   "source": [
    "Objectives:\n",
    "- List of popular languages\n",
    "- List of commonly used Libraries\n",
    "- List of tools used by Data Science\n",
    "- Example of arithmatic operations\n",
    "\n"
   ]
  },
  {
   "cell_type": "markdown",
   "id": "f42c1fba",
   "metadata": {},
   "source": [
    "Some of the popular languages that Data Scientists use are:\n",
    "\n",
    "1. Python\n",
    "2. SQL\n",
    "3. R\n",
    "4. SCALA\n",
    "5. JULIA\n"
   ]
  },
  {
   "cell_type": "markdown",
   "id": "c294a14f",
   "metadata": {},
   "source": [
    "Some of the commonly used libraries used by Data Scientists include:\n",
    "\n",
    "1. numpy\n",
    "2. pandas\n",
    "3. Matplotlib\n",
    "4. seaborn\n",
    "5. ploty\n"
   ]
  },
  {
   "cell_type": "markdown",
   "id": "400fa010",
   "metadata": {},
   "source": [
    "|Data Science Tools|\n",
    "|-------------------| \n",
    "|RStudio.| \n",
    "|Apache Spark.| \n",
    "|Tensor Flow.| \n",
    "|apache Hadoop.|"
   ]
  },
  {
   "cell_type": "markdown",
   "id": "6df52d2e",
   "metadata": {},
   "source": [
    "### Below are a few examples of evaluating arithmetic expressions in Python\n"
   ]
  },
  {
   "cell_type": "code",
   "execution_count": 4,
   "id": "e303dd6d",
   "metadata": {},
   "outputs": [
    {
     "data": {
      "text/plain": [
       "17"
      ]
     },
     "execution_count": 4,
     "metadata": {},
     "output_type": "execute_result"
    }
   ],
   "source": [
    "# This a simple arithmetic expression to mutiply then add integers\n",
    "\n",
    "(3*4)+5"
   ]
  },
  {
   "cell_type": "code",
   "execution_count": 5,
   "id": "37495ead",
   "metadata": {},
   "outputs": [
    {
     "data": {
      "text/plain": [
       "3.3333333333333335"
      ]
     },
     "execution_count": 5,
     "metadata": {},
     "output_type": "execute_result"
    }
   ],
   "source": [
    "# This will convert 200 minutes to hours by diving by 60\n",
    "\n",
    "200/60"
   ]
  },
  {
   "cell_type": "markdown",
   "id": "bb4bb687",
   "metadata": {},
   "source": [
    "## Author: \n",
    "\n",
    "Thaer Zori"
   ]
  },
  {
   "cell_type": "code",
   "execution_count": null,
   "id": "a71ff100",
   "metadata": {},
   "outputs": [],
   "source": []
  }
 ],
 "metadata": {
  "kernelspec": {
   "display_name": "Python 3 (ipykernel)",
   "language": "python",
   "name": "python3"
  },
  "language_info": {
   "codemirror_mode": {
    "name": "ipython",
    "version": 3
   },
   "file_extension": ".py",
   "mimetype": "text/x-python",
   "name": "python",
   "nbconvert_exporter": "python",
   "pygments_lexer": "ipython3",
   "version": "3.11.4"
  }
 },
 "nbformat": 4,
 "nbformat_minor": 5
}
